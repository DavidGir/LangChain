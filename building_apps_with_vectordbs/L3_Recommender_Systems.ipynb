{
 "cells": [
  {
   "cell_type": "markdown",
   "metadata": {},
   "source": [
    "# Recommender Systems\n",
    "\n",
    "Work with sample data from news articles, build vector embeddings out of the article titles. Then build recommender system searching through all articles titles and retrieve titles that are most relevant. Then build recommender system based on article content."
   ]
  },
  {
   "cell_type": "code",
   "execution_count": 1,
   "metadata": {},
   "outputs": [],
   "source": [
    "import warnings\n",
    "warnings.filterwarnings('ignore')"
   ]
  },
  {
   "cell_type": "code",
   "execution_count": 2,
   "metadata": {},
   "outputs": [],
   "source": [
    "from langchain.text_splitter import RecursiveCharacterTextSplitter\n",
    "from openai import OpenAI\n",
    "from pinecone import Pinecone, ServerlessSpec\n",
    "from tqdm.auto import tqdm, trange\n",
    "from DLAIUtils import Utils\n",
    "\n",
    "import pandas as pd\n",
    "import time\n",
    "import os"
   ]
  },
  {
   "cell_type": "code",
   "execution_count": 3,
   "metadata": {},
   "outputs": [],
   "source": [
    "utils = Utils()\n",
    "PINECONE_API_KEY = utils.get_pinecone_api_key()\n",
    "OPENAI_API_KEY = utils.get_openai_api_key()"
   ]
  },
  {
   "cell_type": "code",
   "execution_count": 5,
   "metadata": {},
   "outputs": [
    {
     "name": "stdout",
     "output_type": "stream",
     "text": [
      "Archive:  ../public/data/all-the-news-3.zip\n",
      "  inflating: all-the-news-3.csv      \n"
     ]
    }
   ],
   "source": [
    "# Load Dataset\n",
    "# ! unzip ../public/data/all-the-news-3.zip"
   ]
  },
  {
   "cell_type": "code",
   "execution_count": 7,
   "metadata": {},
   "outputs": [
    {
     "name": "stdout",
     "output_type": "stream",
     "text": [
      "date,year,month,day,author,title,article,url,section,publication\n",
      "\n"
     ]
    }
   ],
   "source": [
    "# Open file and read it\n",
    "with open('./all-the-news-3.csv', 'r') as file:\n",
    "    header = file.readline()\n",
    "    print(header)"
   ]
  },
  {
   "cell_type": "code",
   "execution_count": 8,
   "metadata": {},
   "outputs": [
    {
     "data": {
      "text/html": [
       "<div>\n",
       "<style scoped>\n",
       "    .dataframe tbody tr th:only-of-type {\n",
       "        vertical-align: middle;\n",
       "    }\n",
       "\n",
       "    .dataframe tbody tr th {\n",
       "        vertical-align: top;\n",
       "    }\n",
       "\n",
       "    .dataframe thead th {\n",
       "        text-align: right;\n",
       "    }\n",
       "</style>\n",
       "<table border=\"1\" class=\"dataframe\">\n",
       "  <thead>\n",
       "    <tr style=\"text-align: right;\">\n",
       "      <th></th>\n",
       "      <th>date</th>\n",
       "      <th>year</th>\n",
       "      <th>month</th>\n",
       "      <th>day</th>\n",
       "      <th>author</th>\n",
       "      <th>title</th>\n",
       "      <th>article</th>\n",
       "      <th>url</th>\n",
       "      <th>section</th>\n",
       "      <th>publication</th>\n",
       "    </tr>\n",
       "  </thead>\n",
       "  <tbody>\n",
       "    <tr>\n",
       "      <th>0</th>\n",
       "      <td>2016-12-09 18:31:00</td>\n",
       "      <td>2016</td>\n",
       "      <td>12.0</td>\n",
       "      <td>9</td>\n",
       "      <td>Lee Drutman</td>\n",
       "      <td>We should take concerns about the health of li...</td>\n",
       "      <td>This post is part of Polyarchy, an independent...</td>\n",
       "      <td>https://www.vox.com/polyarchy/2016/12/9/138983...</td>\n",
       "      <td>NaN</td>\n",
       "      <td>Vox</td>\n",
       "    </tr>\n",
       "    <tr>\n",
       "      <th>1</th>\n",
       "      <td>2016-10-07 21:26:46</td>\n",
       "      <td>2016</td>\n",
       "      <td>10.0</td>\n",
       "      <td>7</td>\n",
       "      <td>Scott Davis</td>\n",
       "      <td>Colts GM Ryan Grigson says Andrew Luck's contr...</td>\n",
       "      <td>The Indianapolis Colts made Andrew Luck the h...</td>\n",
       "      <td>https://www.businessinsider.com/colts-gm-ryan-...</td>\n",
       "      <td>NaN</td>\n",
       "      <td>Business Insider</td>\n",
       "    </tr>\n",
       "    <tr>\n",
       "      <th>2</th>\n",
       "      <td>2018-01-26 00:00:00</td>\n",
       "      <td>2018</td>\n",
       "      <td>1.0</td>\n",
       "      <td>26</td>\n",
       "      <td>NaN</td>\n",
       "      <td>Trump denies report he ordered Mueller fired</td>\n",
       "      <td>DAVOS, Switzerland (Reuters) - U.S. President ...</td>\n",
       "      <td>https://www.reuters.com/article/us-davos-meeti...</td>\n",
       "      <td>Davos</td>\n",
       "      <td>Reuters</td>\n",
       "    </tr>\n",
       "    <tr>\n",
       "      <th>3</th>\n",
       "      <td>2019-06-27 00:00:00</td>\n",
       "      <td>2019</td>\n",
       "      <td>6.0</td>\n",
       "      <td>27</td>\n",
       "      <td>NaN</td>\n",
       "      <td>France's Sarkozy reveals his 'Passions' but in...</td>\n",
       "      <td>PARIS (Reuters) - Former French president Nico...</td>\n",
       "      <td>https://www.reuters.com/article/france-politic...</td>\n",
       "      <td>World News</td>\n",
       "      <td>Reuters</td>\n",
       "    </tr>\n",
       "    <tr>\n",
       "      <th>4</th>\n",
       "      <td>2016-01-27 00:00:00</td>\n",
       "      <td>2016</td>\n",
       "      <td>1.0</td>\n",
       "      <td>27</td>\n",
       "      <td>NaN</td>\n",
       "      <td>Paris Hilton: Woman In Black For Uncle Monty's...</td>\n",
       "      <td>Paris Hilton arrived at LAX Wednesday dressed ...</td>\n",
       "      <td>https://www.tmz.com/2016/01/27/paris-hilton-mo...</td>\n",
       "      <td>NaN</td>\n",
       "      <td>TMZ</td>\n",
       "    </tr>\n",
       "  </tbody>\n",
       "</table>\n",
       "</div>"
      ],
      "text/plain": [
       "                  date  year  month  day       author  \\\n",
       "0  2016-12-09 18:31:00  2016   12.0    9  Lee Drutman   \n",
       "1  2016-10-07 21:26:46  2016   10.0    7  Scott Davis   \n",
       "2  2018-01-26 00:00:00  2018    1.0   26          NaN   \n",
       "3  2019-06-27 00:00:00  2019    6.0   27          NaN   \n",
       "4  2016-01-27 00:00:00  2016    1.0   27          NaN   \n",
       "\n",
       "                                               title  \\\n",
       "0  We should take concerns about the health of li...   \n",
       "1  Colts GM Ryan Grigson says Andrew Luck's contr...   \n",
       "2       Trump denies report he ordered Mueller fired   \n",
       "3  France's Sarkozy reveals his 'Passions' but in...   \n",
       "4  Paris Hilton: Woman In Black For Uncle Monty's...   \n",
       "\n",
       "                                             article  \\\n",
       "0  This post is part of Polyarchy, an independent...   \n",
       "1   The Indianapolis Colts made Andrew Luck the h...   \n",
       "2  DAVOS, Switzerland (Reuters) - U.S. President ...   \n",
       "3  PARIS (Reuters) - Former French president Nico...   \n",
       "4  Paris Hilton arrived at LAX Wednesday dressed ...   \n",
       "\n",
       "                                                 url     section  \\\n",
       "0  https://www.vox.com/polyarchy/2016/12/9/138983...         NaN   \n",
       "1  https://www.businessinsider.com/colts-gm-ryan-...         NaN   \n",
       "2  https://www.reuters.com/article/us-davos-meeti...       Davos   \n",
       "3  https://www.reuters.com/article/france-politic...  World News   \n",
       "4  https://www.tmz.com/2016/01/27/paris-hilton-mo...         NaN   \n",
       "\n",
       "        publication  \n",
       "0               Vox  \n",
       "1  Business Insider  \n",
       "2           Reuters  \n",
       "3           Reuters  \n",
       "4               TMZ  "
      ]
     },
     "execution_count": 8,
     "metadata": {},
     "output_type": "execute_result"
    }
   ],
   "source": [
    "# Lets make it more convenient by using a dataframe from pandas package\n",
    "df = pd.read_csv('./all-the-news-3.csv', nrows=99)\n",
    "df.head()"
   ]
  },
  {
   "cell_type": "markdown",
   "metadata": {},
   "source": [
    "## Setup Pinecone "
   ]
  },
  {
   "cell_type": "code",
   "execution_count": 9,
   "metadata": {},
   "outputs": [],
   "source": [
    "openai_client = OpenAI(api_key=OPENAI_API_KEY)\n",
    "util = Utils()\n",
    "INDEX_NAME = utils.create_dlai_index_name('dl-ai')\n",
    "pinecone = Pinecone(api_key=PINECONE_API_KEY)\n",
    "\n",
    "if INDEX_NAME in [index.name for index in pinecone.list_indexes()]:\n",
    "  pinecone.delete_index(INDEX_NAME)\n",
    "\n",
    "pinecone.create_index(name=INDEX_NAME, dimension=1536, metric='cosine',\n",
    "  spec=ServerlessSpec(cloud='aws', region='us-west-2'))\n",
    "\n",
    "index = pinecone.Index(INDEX_NAME)"
   ]
  },
  {
   "cell_type": "markdown",
   "metadata": {},
   "source": [
    "## Create embeddings of the news titles "
   ]
  },
  {
   "cell_type": "code",
   "execution_count": 10,
   "metadata": {},
   "outputs": [],
   "source": [
    "def get_embeddings(articles, model=\"text-embedding-ada-002\"):\n",
    "   return openai_client.embeddings.create(input = articles, model=model)"
   ]
  },
  {
   "cell_type": "code",
   "execution_count": 13,
   "metadata": {},
   "outputs": [
    {
     "data": {
      "application/vnd.jupyter.widget-view+json": {
       "model_id": "52de2934488546b8839992f50f7b4259",
       "version_major": 2,
       "version_minor": 0
      },
      "text/plain": [
       "  0%|          | 0/20000 [00:00<?, ?it/s]"
      ]
     },
     "metadata": {},
     "output_type": "display_data"
    }
   ],
   "source": [
    "# Create chunks as subsets of the data from the articles dataset and upload them to the Pinecone index\n",
    "CHUNK_SIZE=400\n",
    "TOTAL_ROWS=20000\n",
    "progress_bar = tqdm(total=TOTAL_ROWS)\n",
    "chunks = pd.read_csv('./all-the-news-3.csv', chunksize=CHUNK_SIZE, \n",
    "                     nrows=TOTAL_ROWS)\n",
    "chunk_num = 0\n",
    "for chunk in chunks:\n",
    "    titles = chunk['title'].tolist()\n",
    "    embeddings = get_embeddings(titles)\n",
    "    prepped = [{'id':str(chunk_num*CHUNK_SIZE+i), 'values':embeddings.data[i].embedding,\n",
    "                'metadata':{'title':titles[i]},} for i in range(0,len(titles))]\n",
    "    chunk_num = chunk_num + 1\n",
    "    if len(prepped) >= 300:\n",
    "      index.upsert(prepped)\n",
    "      prepped = []\n",
    "    progress_bar.update(len(chunk))"
   ]
  },
  {
   "cell_type": "code",
   "execution_count": 14,
   "metadata": {},
   "outputs": [
    {
     "data": {
      "text/plain": [
       "{'dimension': 1536,\n",
       " 'index_fullness': 0.0,\n",
       " 'namespaces': {'': {'vector_count': 20000}},\n",
       " 'total_vector_count': 20000}"
      ]
     },
     "execution_count": 14,
     "metadata": {},
     "output_type": "execute_result"
    }
   ],
   "source": [
    "index.describe_index_stats()"
   ]
  },
  {
   "cell_type": "markdown",
   "metadata": {},
   "source": [
    "## Build Recommender System "
   ]
  },
  {
   "cell_type": "code",
   "execution_count": 16,
   "metadata": {},
   "outputs": [],
   "source": [
    "# Helper function takes a pointer to pinecone, what you want to search for and how many results you want\n",
    "def get_recommendations(pinecone_index, search_term, top_k=10):\n",
    "  embed = get_embeddings([search_term]).data[0].embedding\n",
    "  #  Executes and returns the search results\n",
    "  res = pinecone_index.query(vector=embed, top_k=top_k, include_metadata=True)\n",
    "  return res"
   ]
  },
  {
   "cell_type": "code",
   "execution_count": 17,
   "metadata": {},
   "outputs": [
    {
     "name": "stdout",
     "output_type": "stream",
     "text": [
      "0.856704175 : Obama's been a much more effective communicator than he gives himself credit for\n",
      "0.853875279 : Obama’s parting message is a warning for Donald Trump\n",
      "0.85247159 : America will miss Barack Obama's decency\n",
      "0.851420879 : Barack Obama Golfs in Tuscany\n",
      "0.849604547 : Barack Obama just stepped off the sidelines to defend Obamacare\n",
      "0.849476159 : Obama: if you were fine with big government until it served black people, rethink your biases\n",
      "0.848955095 : “Our democracy is at stake”: Obama delivers his first post-presidency campaign speech\n",
      "0.848202527 : President Obama has a new plan to fight the opioid epidemic\n",
      "0.847667515 : Muhammad Ali -- Obama Praises The Greatest\n",
      "0.844964087 : Prez Obama -- I Support Colin Kaepernick's National Anthem Protest (VIDEO)\n"
     ]
    }
   ],
   "source": [
    "reco = get_recommendations(index, 'obama')\n",
    "for r in reco.matches:\n",
    "    print(f'{r.score} : {r.metadata[\"title\"]}')"
   ]
  },
  {
   "cell_type": "markdown",
   "metadata": {},
   "source": [
    "## Create embeddings of all new content \n",
    "\n",
    "Look for vector embeddings that represent the content of the article"
   ]
  },
  {
   "cell_type": "code",
   "execution_count": 18,
   "metadata": {},
   "outputs": [],
   "source": [
    "if INDEX_NAME in [index.name for index in pinecone.list_indexes()]:\n",
    "  pinecone.delete_index(name=INDEX_NAME)\n",
    "\n",
    "pinecone.create_index(name=INDEX_NAME, dimension=1536, metric='cosine',\n",
    "  spec=ServerlessSpec(cloud='aws', region='us-west-2'))\n",
    "articles_index = pinecone.Index(INDEX_NAME)"
   ]
  },
  {
   "cell_type": "code",
   "execution_count": 19,
   "metadata": {},
   "outputs": [],
   "source": [
    "\n",
    "def embed(embeddings, title, prepped, embed_num):\n",
    "  for embedding in embeddings.data:\n",
    "    prepped.append({'id':str(embed_num), 'values':embedding.embedding, 'metadata':{'title':title}})\n",
    "    embed_num += 1\n",
    "    if len(prepped) >= 300:\n",
    "        articles_index.upsert(prepped)\n",
    "        prepped.clear()\n",
    "  return embed_num"
   ]
  },
  {
   "cell_type": "code",
   "execution_count": 23,
   "metadata": {},
   "outputs": [
    {
     "data": {
      "application/vnd.jupyter.widget-view+json": {
       "model_id": "df018eee265d43e1a9fe15a0aeb95472",
       "version_major": 2,
       "version_minor": 0
      },
      "text/plain": [
       "  0%|          | 0/1000 [00:00<?, ?it/s]"
      ]
     },
     "metadata": {},
     "output_type": "display_data"
    }
   ],
   "source": [
    "news_data_rows_num = 1000\n",
    "\n",
    "embed_num = 0 #keep track of embedding number for 'id'\n",
    "# Chunk up article text into smaller pieces with overlap \n",
    "text_splitter = RecursiveCharacterTextSplitter(chunk_size=400, \n",
    "    chunk_overlap=20) # how to chunk each article\n",
    "prepped = []\n",
    "df = pd.read_csv('./all-the-news-3.csv', nrows=news_data_rows_num)\n",
    "articles_list = df['article'].tolist()\n",
    "titles_list = df['title'].tolist()\n",
    "\n",
    "# Iterate through all the articles and embed them through Langchain recursive character text splitter \n",
    "for i in tqdm(range(0, len(articles_list))):\n",
    "    art = articles_list[i]\n",
    "    title = titles_list[i]\n",
    "    if art is not None and isinstance(art, str):\n",
    "      texts = text_splitter.split_text(art)\n",
    "      embeddings = get_embeddings(texts)\n",
    "      embed_num = embed(embeddings, title, prepped, embed_num)"
   ]
  },
  {
   "cell_type": "code",
   "execution_count": 24,
   "metadata": {},
   "outputs": [
    {
     "data": {
      "text/plain": [
       "{'dimension': 1536,\n",
       " 'index_fullness': 0.0,\n",
       " 'namespaces': {'': {'vector_count': 10500}},\n",
       " 'total_vector_count': 10500}"
      ]
     },
     "execution_count": 24,
     "metadata": {},
     "output_type": "execute_result"
    }
   ],
   "source": [
    "articles_index.describe_index_stats()"
   ]
  },
  {
   "cell_type": "code",
   "execution_count": 25,
   "metadata": {},
   "outputs": [
    {
     "name": "stdout",
     "output_type": "stream",
     "text": [
      "0.842914104 : In separate speeches Obama, Biden, Carter target Trump policies\n",
      "0.838885725 : Waffle House Hero James Shaw Jr. Says Trump's Call Was 'Lackluster' But Appreciated\n",
      "0.838100433 : 'Cut it out,' Obama told Putin on cyber attacks\n",
      "0.83676821 : The social soapbox: Democrats will embrace visual platforms at the 2016 Convention\n",
      "0.831418157 : Government shutdown: are Democrats becoming more like Republicans?\n",
      "0.831008136 : Obama-Trump meeting 'less awkward' than some might have expected: White House\n",
      "0.827040255 : Obama's quiet push to ban LGBTQ discrimination in the workplace\n",
      "0.825527072 : Do terrorist attacks make a Trump win more likely? Here’s what the research suggests.\n",
      "0.825044274 : Virginia governor's election results: polls, live updates, and what to expect\n",
      "0.824935436 : Medicare-for-all will be shaped by these 3 questions\n",
      "0.824586391 : The game theory behind Mitch McConnell's Supreme Court strategy\n",
      "0.824284792 : This is what Obamacare sabotage looks like\n",
      "0.821054697 : Why Obama is vetting Nevada's Republican governor for the Supreme Court\n",
      "0.820601702 : Full transcript of Donald Trump’s acceptance speech at the RNC\n",
      "0.819872379 : Midterm 2018 Senate results: Democrats are unlikely to retake until 2022 or 2024\n",
      "0.819109142 : Quarter of Republicans think Cruz's birthplace disqualifies him for president: poll\n",
      "0.818831205 : U.S. lawmakers ask for disclosure of number of Americans under surveillance\n",
      "0.818499684 : Jon Lovett explains why Democrats in Congress probably won’t regulate Facebook\n",
      "0.818051815 : Ballroom Is America's Most Slept-On Subculture—MikeQ Wants to Open Our Eyes.\n",
      "0.816677749 : Where early voting stands going into Election Day\n",
      "0.81571275 : Edward Snowden Calls 'Bullshit' on FBI's Claim That It Can't Unlock iPhone \n",
      "0.815631449 : Brazil’s “Lula” gets 9.5 years in prison but is still a favorite to be president\n",
      "0.814226568 : Read Tim Kaine's DNC speech transcript\n",
      "0.813794 : Anti-Trump protesters gather for third night, one shot in Portland\n",
      "0.812511921 : The longest shutdown in modern American history was also the least productive\n",
      "0.812379181 : NYPD Honcho Insulted by 'Hamilton' Star Lin-Manuel Miranda Celebrating Obama's Controversial Prisoner Release\n",
      "0.812135637 : It's 2018, and Trump is still tweeting about Hillary Clinton's email\n",
      "0.812055051 : Death of a statesman: George H.W. Bush’s legacy\n",
      "0.810772896 : Crooked Chicago Cops May Get Off the Hook Thanks to Trump\n",
      "0.810702741 : Trump plays down post-Brexit market losses\n",
      "0.810700417 : The best analogy to Donald Trump in 2017 is George W. Bush in 2005\n",
      "0.810657203 : Trump's Year of Living Dangerously with North Korea\n",
      "0.810478687 : Mississippi governor to join suit against Obama transgender policy\n",
      "0.810457349 : Ex-vice president Biden doesn't recall inappropriate kiss alleged by activist: spokesman\n",
      "0.810416341 : Trump's Phony Emergency Pushed America a Little Closer Toward a Real Crisis\n",
      "0.810151815 : Indiana fires Tom Crean just as the NCAA Tournament begins\n",
      "0.809563339 : Read President Trump’s executive order on climate change\n",
      "0.809510887 : A crowd scientist says Trump’s inauguration attendance was pretty average\n",
      "0.809393585 : Facebook’s top political ad spender is ... Facebook\n",
      "0.809257925 : Anohni Pens Take Down of Current Election In New Note \"Americans, You Are Being Used\"\n",
      "0.808862805 : Trump’s budget makes it official: he’s doing little to nothing about the opioid epidemic\n",
      "0.808777452 : Trump’s inauguration photos were doctored to make the crowd look bigger, report says\n",
      "0.808764756 : How tech workers in the government could make everyone’s life easier: ‘Get rid of the paper’\n",
      "0.806931 : Why Jews Are Getting Themselves Arrested at ICE Centers Around the Country\n",
      "0.806733131 : If You Support Anti-Abortion Democrats, You Should Expect Anti-Woman Policy\n",
      "0.806284785 : British politician's murder leaves EU membership campaigns in limbo\n",
      "0.806235075 : Trump keeping options open as Republican feud rages\n",
      "0.806163073 : Obamacare lawsuit: House Democrats move to reverse unconstitutional ruling\n",
      "0.805892348 : Factbox: Trump's immigration enforcement lags behind Obama's first term in office\n",
      "0.80579859 : Watch: Gary Johnson can't name a single foreign leader he admires, admits to having \"an Aleppo moment\"\n",
      "0.805547714 : Former Microsoft executive Doug Burgum is North Dakota’s next governor\n",
      "0.804805815 : Florida primary: Andrew Gillum wins Dem governor nod\n"
     ]
    }
   ],
   "source": [
    "reco = get_recommendations(articles_index, 'obama', top_k=100)\n",
    "seen = {}\n",
    "for r in reco.matches:\n",
    "    title = r.metadata['title']\n",
    "    if title not in seen:\n",
    "        print(f'{r.score} : {title}')\n",
    "        seen[title] = '.'"
   ]
  },
  {
   "cell_type": "code",
   "execution_count": null,
   "metadata": {},
   "outputs": [],
   "source": []
  },
  {
   "cell_type": "code",
   "execution_count": null,
   "metadata": {},
   "outputs": [],
   "source": []
  },
  {
   "cell_type": "code",
   "execution_count": null,
   "metadata": {},
   "outputs": [],
   "source": []
  },
  {
   "cell_type": "code",
   "execution_count": null,
   "metadata": {},
   "outputs": [],
   "source": []
  },
  {
   "cell_type": "code",
   "execution_count": null,
   "metadata": {},
   "outputs": [],
   "source": []
  },
  {
   "cell_type": "code",
   "execution_count": null,
   "metadata": {},
   "outputs": [],
   "source": []
  },
  {
   "cell_type": "code",
   "execution_count": null,
   "metadata": {},
   "outputs": [],
   "source": []
  },
  {
   "cell_type": "code",
   "execution_count": null,
   "metadata": {},
   "outputs": [],
   "source": []
  },
  {
   "cell_type": "code",
   "execution_count": null,
   "metadata": {},
   "outputs": [],
   "source": []
  }
 ],
 "metadata": {
  "kernelspec": {
   "display_name": "venv",
   "language": "python",
   "name": "python3"
  },
  "language_info": {
   "codemirror_mode": {
    "name": "ipython",
    "version": 3
   },
   "file_extension": ".py",
   "mimetype": "text/x-python",
   "name": "python",
   "nbconvert_exporter": "python",
   "pygments_lexer": "ipython3",
   "version": "3.11.7"
  }
 },
 "nbformat": 4,
 "nbformat_minor": 2
}
